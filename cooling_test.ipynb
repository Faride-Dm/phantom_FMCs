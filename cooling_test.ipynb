{
 "cells": [
  {
   "cell_type": "markdown",
   "metadata": {},
   "source": [
    "# This is a script to trace cooling function in the code to find out if our simulations are completely cooling and shocking free."
   ]
  },
  {
   "cell_type": "code",
   "execution_count": null,
   "metadata": {},
   "outputs": [],
   "source": [
    "in \\textbf{initial.f90} file, \n",
    "line 338: !initialise cooling function (if in \\textbf{Makefile}, H2CHEM = yes then h2chemistry = true)"
   ]
  },
  {
   "cell_type": "code",
   "execution_count": null,
   "metadata": {},
   "outputs": [],
   "source": [
    "if (h2chemistry) then    \n",
    "    if (icooling > 0) then \n",
    "        write 'initialising cooling function ...' \n",
    "        call init_chem()  '(this locates in \"chem\" module and \"h2chem\" file)' \n",
    "        call init_h2cooling() '(locates in h2cooling module in a file with a same name)' \n",
    "    end if \n",
    "else if (icooling > 0) then '(the default quantity is zero)'\n",
    "        call init_cooling (ierr) '(locates in cooling module in a file with a same name)' \n",
    "        if (ierr \\neq 0) call ('error initialising cooling')\n",
    "end if "
   ]
  },
  {
   "cell_type": "markdown",
   "metadata": {},
   "source": [
    "### MODULE: chem"
   ]
  },
  {
   "cell_type": "code",
   "execution_count": null,
   "metadata": {},
   "outputs": [],
   "source": [
    "It contains H2 chemistry routines.\n",
    "resources and refrences:\n",
    "Nelson-Langer-1997, \n",
    "Glover-et-al-2010, \n",
    "Bergin-et-al-2004.\n",
    "\n",
    "sub: init_chem() '(dependencies: \"units\")'\n",
    "\n",
    "sub: ener_h2cooling '(calculate cooling statements in energy eq du/dt and update various' \n",
    "                    'abundances)' ----->               \n",
    "                    '(dependences: \"h2cooling\" and \"units\" -----> \"cool_func\")'\n",
    "\n",
    "sub: update_abundances '(dependencies: \"part\", \"units\", \"physcon\", \"h2cooling\")'\n",
    "\n",
    "pure sub: H2fd_rate l \n"
   ]
  },
  {
   "cell_type": "markdown",
   "metadata": {},
   "source": [
    "### MODULE: cooling"
   ]
  },
  {
   "cell_type": "code",
   "execution_count": null,
   "metadata": {},
   "outputs": [],
   "source": [
    "resources and refrences:\n",
    "\\citep{Sembach2000, ApJ528, 310}\n",
    "\n",
    "sub: write_options_h2cooling \n",
    "    \n",
    "sub: read_options_h2cooling  \n",
    "    \n",
    "sub: cooling_func  'dependencies to \\textbf{fs$_$data}, \\textbf{mol$_$data}, \\textbf{io}'\n",
    "    \n",
    "puresub: three_level_pups\n",
    "    \n",
    "sub: init_h2cooling  'dependencies to \"fs_data\" (many refrences, Goal: table cooling function'  \n",
    "                     'for various types of ions, atoms and molecules before begining)'\n",
    "\n",
    "sub: co_cool 'dependences to \\textbf{mol$_$data}, \\textbf{splineutils}' \n",
    "\n",
    "puresub: hchem "
   ]
  },
  {
   "cell_type": "markdown",
   "metadata": {},
   "source": [
    "### MODULE: cooling, \n",
    "#### cooling.f90 file"
   ]
  },
  {
   "cell_type": "code",
   "execution_count": null,
   "metadata": {},
   "outputs": [],
   "source": [
    "#Interface routines and options for various cooling prescriptions\n",
    "\n",
    "USE options, only: icooling \n",
    "USE timestep, only: c_cool \n",
    "USE part, only: h2chemistary, maxvxyzu \n",
    "\n",
    "sub: init_cooling '(in \\textbf{coolfunc} file)'\n",
    "     use coolfunc, only: init_coolfunc \n",
    "     if (icooling = 3) call init_coolfunc (ierr) \n",
    "\n",
    "'\\textbf{Implementation of various cooling prescriptions:}' \n",
    "\n",
    "sub: ener_cooling '(different dependencies)' \n",
    "    INPUT: icool --cooling option \n",
    "           ui --thermal energy per unit mass\n",
    "           xi, yi, zi --current position \n",
    "    OUTPUT: dudt --cooling rate\n",
    "    default: from Gammie (2001) \n",
    "             i.e. du/dt = - u/tcool , where tcool = $\\frac{beta}{omega}$' \n",
    "\n",
    "\n",
    "puresub: cooling_rate_sd93(T) \n",
    "sub: write_options_cooling\n",
    "    if (h2chemistry \n",
    "        call (icooling, icooling  0 = off \n",
    "                                  1 = on \n",
    "    else \n",
    "        call (icooling, icooling  0 : off \n",
    "                                  1 : Gammie \n",
    "                                  2 : SD93 \n",
    "                                  3 : cooling function  \n",
    "        )"
   ]
  }
 ],
 "metadata": {
  "kernelspec": {
   "display_name": "Python 3",
   "language": "python",
   "name": "python3"
  },
  "language_info": {
   "codemirror_mode": {
    "name": "ipython",
    "version": 3
   },
   "file_extension": ".py",
   "mimetype": "text/x-python",
   "name": "python",
   "nbconvert_exporter": "python",
   "pygments_lexer": "ipython3",
   "version": "3.7.4"
  }
 },
 "nbformat": 4,
 "nbformat_minor": 2
}
