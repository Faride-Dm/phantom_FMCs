{
 "cells": [
  {
   "cell_type": "markdown",
   "metadata": {},
   "source": [
    "### Figure3 (Price & Bate 2007)"
   ]
  },
  {
   "cell_type": "markdown",
   "metadata": {},
   "source": [
    "### This is a program to calculate the free fall time and the Jeans length: "
   ]
  },
  {
   "cell_type": "code",
   "execution_count": 1,
   "metadata": {},
   "outputs": [],
   "source": [
    "import numpy as np\n",
    "import math\n",
    "from astropy import constants as const\n",
    "from astropy import units as u\n",
    "#from astropy.constants import si"
   ]
  },
  {
   "cell_type": "code",
   "execution_count": 2,
   "metadata": {},
   "outputs": [
    {
     "data": {
      "text/latex": [
       "$6.67408 \\times 10^{-11} \\; \\mathrm{\\frac{m^{3}}{kg\\,s^{2}}}$"
      ],
      "text/plain": [
       "<<class 'astropy.constants.codata2014.CODATA2014'> name='Gravitational constant' value=6.67408e-11 uncertainty=3.1e-15 unit='m3 / (kg s2)' reference='CODATA 2014'>"
      ]
     },
     "execution_count": 2,
     "metadata": {},
     "output_type": "execute_result"
    }
   ],
   "source": [
    "const.G\n"
   ]
  },
  {
   "cell_type": "code",
   "execution_count": 3,
   "metadata": {},
   "outputs": [
    {
     "data": {
      "text/latex": [
       "$7.1812073 \\times 10^{-20} \\; \\mathrm{\\frac{g}{cm^{3}}}$"
      ],
      "text/plain": [
       "<Quantity 7.18120729e-20 g / cm3>"
      ]
     },
     "execution_count": 3,
     "metadata": {},
     "output_type": "execute_result"
    }
   ],
   "source": [
    "filamentM = 50*u.solMass \n",
    "filamentL = 1.5*u.pc \n",
    "filamentR = 0.1*u.pc \n",
    "densUnit = u.solMass/(u.pc)**3.\n",
    "filamentV = math.pi*filamentR**2.*filamentL\n",
    "filamentDens = filamentM/filamentV\n",
    "filamentDens.decompose(u.cgs.bases)"
   ]
  },
  {
   "cell_type": "code",
   "execution_count": 4,
   "metadata": {},
   "outputs": [
    {
     "data": {
      "text/latex": [
       "$0.0001444178 \\; \\mathrm{\\frac{m^{3/2}\\,M_{\\odot}^{1/2}}{kg^{1/2}\\,s\\,pc^{3/2}}}$"
      ],
      "text/plain": [
       "<Quantity 0.00014442 m(3/2) solMass(1/2) / (kg(1/2) pc(3/2) s)>"
      ]
     },
     "execution_count": 4,
     "metadata": {},
     "output_type": "execute_result"
    }
   ],
   "source": [
    "tff = (3*math.pi/32*const.G*filamentDens)**(0.5) ; tff"
   ]
  },
  {
   "cell_type": "code",
   "execution_count": 5,
   "metadata": {},
   "outputs": [
    {
     "data": {
      "text/latex": [
       "$7.1812073 \\times 10^{-20} \\; \\mathrm{\\frac{g}{cm^{3}}}$"
      ],
      "text/plain": [
       "<Quantity 7.18120729e-20 g / cm3>"
      ]
     },
     "execution_count": 5,
     "metadata": {},
     "output_type": "execute_result"
    }
   ],
   "source": [
    "filamentM = 50*u.solMass \n",
    "\n",
    "filamentDens = filamentM/filamentV\n",
    "filamentDens.decompose(u.cgs.bases)"
   ]
  },
  {
   "cell_type": "code",
   "execution_count": 6,
   "metadata": {},
   "outputs": [],
   "source": [
    "\n",
    "\n",
    "mu = 2.381; T = 15*u.Kelvin\n",
    "\n",
    "\n",
    "\n"
   ]
  },
  {
   "cell_type": "code",
   "execution_count": 7,
   "metadata": {},
   "outputs": [
    {
     "data": {
      "text/latex": [
       "$1.3806485 \\times 10^{-23} \\; \\mathrm{\\frac{J}{K}}$"
      ],
      "text/plain": [
       "<<class 'astropy.constants.codata2014.CODATA2014'> name='Boltzmann constant' value=1.38064852e-23 uncertainty=7.9e-30 unit='J / K' reference='CODATA 2014'>"
      ]
     },
     "execution_count": 7,
     "metadata": {},
     "output_type": "execute_result"
    }
   ],
   "source": [
    "\n",
    "\n",
    "const.k_B\n",
    "\n"
   ]
  },
  {
   "cell_type": "code",
   "execution_count": 8,
   "metadata": {},
   "outputs": [
    {
     "data": {
      "text/latex": [
       "$1.6726219 \\times 10^{-27} \\; \\mathrm{kg}$"
      ],
      "text/plain": [
       "<<class 'astropy.constants.codata2014.CODATA2014'> name='Proton mass' value=1.672621898e-27 uncertainty=2.1e-35 unit='kg' reference='CODATA 2014'>"
      ]
     },
     "execution_count": 8,
     "metadata": {},
     "output_type": "execute_result"
    }
   ],
   "source": [
    "\n",
    "\n",
    "const.m_p\n",
    "\n"
   ]
  },
  {
   "cell_type": "code",
   "execution_count": 9,
   "metadata": {},
   "outputs": [
    {
     "data": {
      "text/latex": [
       "$228.03873 \\; \\mathrm{\\frac{J^{1/2}}{kg^{1/2}}}$"
      ],
      "text/plain": [
       "<Quantity 228.03872731 J(1/2) / kg(1/2)>"
      ]
     },
     "execution_count": 9,
     "metadata": {},
     "output_type": "execute_result"
    }
   ],
   "source": [
    "\n",
    "\n",
    "cs = (const.k_B*T/mu/const.m_p)**(0.5); cs\n",
    "\n"
   ]
  },
  {
   "cell_type": "code",
   "execution_count": 10,
   "metadata": {},
   "outputs": [
    {
     "data": {
      "text/latex": [
       "$22803.873 \\; \\mathrm{\\frac{cm}{s}}$"
      ],
      "text/plain": [
       "<Quantity 22803.87273107 cm / s>"
      ]
     },
     "execution_count": 10,
     "metadata": {},
     "output_type": "execute_result"
    }
   ],
   "source": [
    "\n",
    "\n",
    "soundSpeed = cs.decompose(u.cgs.bases); soundSpeed\n",
    "\n"
   ]
  },
  {
   "cell_type": "code",
   "execution_count": 11,
   "metadata": {},
   "outputs": [
    {
     "data": {
      "text/latex": [
       "$6.67408 \\times 10^{-11} \\; \\mathrm{\\frac{m^{3}}{kg\\,s^{2}}}$"
      ],
      "text/plain": [
       "<<class 'astropy.constants.codata2014.CODATA2014'> name=u'Gravitational constant' value=6.67408e-11 uncertainty=3.1e-15 unit='m3 / (kg s2)' reference=u'CODATA 2014'>"
      ]
     },
     "execution_count": 11,
     "metadata": {},
     "output_type": "execute_result"
    }
   ],
   "source": [
    "\n",
    "\n",
    "const.G\n",
    "\n"
   ]
  },
  {
   "cell_type": "code",
   "execution_count": 12,
   "metadata": {},
   "outputs": [
    {
     "data": {
      "text/latex": [
       "$\\mathrm{\\frac{m^{3}}{kg\\,s^{2}}}$"
      ],
      "text/plain": [
       "Unit(\"m3 / (kg s2)\")"
      ]
     },
     "execution_count": 12,
     "metadata": {},
     "output_type": "execute_result"
    }
   ],
   "source": [
    "\n",
    "\n",
    "const.G.unit\n",
    "\n"
   ]
  },
  {
   "cell_type": "code",
   "execution_count": 13,
   "metadata": {},
   "outputs": [
    {
     "data": {
      "text/latex": [
       "$\\mathrm{s}$"
      ],
      "text/plain": [
       "Unit(\"s\")"
      ]
     },
     "execution_count": 13,
     "metadata": {},
     "output_type": "execute_result"
    }
   ],
   "source": [
    "\n",
    "\n",
    "timeUnitSi = (u.m**3/const.G.unit/u.kg)**(0.5); timeUnitSi\n",
    "\n"
   ]
  },
  {
   "cell_type": "code",
   "execution_count": 14,
   "metadata": {},
   "outputs": [
    {
     "data": {
      "text/latex": [
       "$4.7051124 \\times 10^{14} \\; \\mathrm{s}$"
      ],
      "text/plain": [
       "<Quantity 4.70511238e+14 s>"
      ]
     },
     "execution_count": 14,
     "metadata": {},
     "output_type": "execute_result"
    }
   ],
   "source": [
    "\n",
    "\n",
    "timeUnit = (const.pc**3/(const.G)/const.M_sun)**(0.5); timeUnit\n"
   ]
  },
  {
   "cell_type": "code",
   "execution_count": 15,
   "metadata": {},
   "outputs": [
    {
     "data": {
      "text/latex": [
       "$2.1253477 \\times 10^{-15} \\; \\mathrm{\\frac{pc}{s}}$"
      ],
      "text/plain": [
       "<Quantity 2.12534775e-15 pc / s>"
      ]
     },
     "execution_count": 15,
     "metadata": {},
     "output_type": "execute_result"
    }
   ],
   "source": [
    "\n",
    "\n",
    "velocityUnit = u.pc/timeUnit; velocityUnit\n",
    "\n"
   ]
  },
  {
   "cell_type": "code",
   "execution_count": 16,
   "metadata": {},
   "outputs": [
    {
     "data": {
      "text/latex": [
       "$1.0729478 \\times 10^{19} \\; \\mathrm{\\frac{cm}{pc}}$"
      ],
      "text/plain": [
       "<Quantity 1.07294784e+19 cm / pc>"
      ]
     },
     "execution_count": 16,
     "metadata": {},
     "output_type": "execute_result"
    }
   ],
   "source": [
    "soundSpeedDimless = soundSpeed/velocityUnit; soundSpeedDimless"
   ]
  },
  {
   "cell_type": "code",
   "execution_count": 17,
   "metadata": {},
   "outputs": [
    {
     "data": {
      "text/latex": [
       "$3.4771871 \\; \\mathrm{}$"
      ],
      "text/plain": [
       "<Quantity 3.47718713>"
      ]
     },
     "execution_count": 17,
     "metadata": {},
     "output_type": "execute_result"
    }
   ],
   "source": [
    "\n",
    "\n",
    "soundSpeedDimless.decompose(u.cgs.bases)\n",
    "\n"
   ]
  },
  {
   "cell_type": "code",
   "execution_count": 18,
   "metadata": {},
   "outputs": [
    {
     "data": {
      "text/latex": [
       "$8.3144598 \\; \\mathrm{\\frac{J}{K\\,g}}$"
      ],
      "text/plain": [
       "<Quantity 8.3144598 J / (g K)>"
      ]
     },
     "execution_count": 18,
     "metadata": {},
     "output_type": "execute_result"
    }
   ],
   "source": [
    "\n",
    "\n",
    "Rg = const.R*u.mol/u.gram; Rg\n",
    "\n"
   ]
  },
  {
   "cell_type": "code",
   "execution_count": 12,
   "metadata": {},
   "outputs": [
    {
     "data": {
      "text/latex": [
       "$0.0001444178 \\; \\mathrm{\\frac{m^{3/2}\\,M_{\\odot}^{1/2}}{kg^{1/2}\\,s\\,pc^{3/2}}}$"
      ],
      "text/plain": [
       "<Quantity 0.00014442 m(3/2) solMass(1/2) / (kg(1/2) pc(3/2) s)>"
      ]
     },
     "execution_count": 12,
     "metadata": {},
     "output_type": "execute_result"
    }
   ],
   "source": [
    "tff = (3*math.pi/32*const.G*filamentDens)**(0.5) ; tff"
   ]
  },
  {
   "cell_type": "code",
   "execution_count": 18,
   "metadata": {},
   "outputs": [
    {
     "data": {
      "text/latex": [
       "$7.1812073 \\times 10^{-20} \\; \\mathrm{\\frac{g}{cm^{3}}}$"
      ],
      "text/plain": [
       "<Quantity 7.18120729e-20 g / cm3>"
      ]
     },
     "execution_count": 18,
     "metadata": {},
     "output_type": "execute_result"
    }
   ],
   "source": [
    "filamentM = 50*u.solMass \n",
    "\n",
    "filamentDens = filamentM/filamentV\n",
    "filamentDens.decompose(u.cgs.bases)"
   ]
  },
  {
   "cell_type": "code",
   "execution_count": 19,
   "metadata": {},
   "outputs": [
    {
     "data": {
      "text/latex": [
       "$2039.3907 \\; \\mathrm{\\frac{pc^{3/2}\\,s\\,kg^{1/2}}{M_{\\odot}^{1/2}\\,m^{3/2}}}$"
      ],
      "text/plain": [
       "<Quantity 2039.39069858 kg(1/2) pc(3/2) s / (m(3/2) solMass(1/2))>"
      ]
     },
     "execution_count": 19,
     "metadata": {},
     "output_type": "execute_result"
    }
   ],
   "source": [
    "tff = ((3*math.pi)/(32*const.G*filamentDens))**(0.5) ; tff"
   ]
  },
  {
   "cell_type": "code",
   "execution_count": 20,
   "metadata": {
    "scrolled": true
   },
   "outputs": [
    {
     "data": {
      "text/latex": [
       "$7.8390988 \\times 10^{12} \\; \\mathrm{s}$"
      ],
      "text/plain": [
       "<Quantity 7.83909882e+12 s>"
      ]
     },
     "execution_count": 20,
     "metadata": {},
     "output_type": "execute_result"
    }
   ],
   "source": [
    "tff.decompose(u.cgs.bases)"
   ]
  },
  {
   "cell_type": "code",
   "execution_count": 21,
   "metadata": {},
   "outputs": [
    {
     "data": {
      "text/latex": [
       "$248406.05 \\; \\mathrm{yr}$"
      ],
      "text/plain": [
       "<Quantity 248406.05170936 yr>"
      ]
     },
     "execution_count": 21,
     "metadata": {},
     "output_type": "execute_result"
    }
   ],
   "source": [
    "tff.decompose(u.cgs.bases).to(u.year)"
   ]
  },
  {
   "cell_type": "code",
   "execution_count": 22,
   "metadata": {
    "scrolled": true
   },
   "outputs": [
    {
     "data": {
      "text/latex": [
       "$8.3144598 \\; \\mathrm{\\frac{J}{K\\,g}}$"
      ],
      "text/plain": [
       "<Quantity 8.3144598 J / (g K)>"
      ]
     },
     "execution_count": 22,
     "metadata": {},
     "output_type": "execute_result"
    }
   ],
   "source": [
    "Rg = const.R*u.mol/u.gram; Rg"
   ]
  },
  {
   "cell_type": "code",
   "execution_count": 23,
   "metadata": {},
   "outputs": [],
   "source": [
    "# function to calculate rho_crit (Bate & Burkert 1997)\n",
    "def calcRhoCrit (T, mu, Ntot, Mtot):\n",
    "    Nnei = 50\n",
    "    rhoCrit = (3./4/math.pi) * (5*Rg*T/2/const.G/mu)**3 * (Ntot/(2*Nnei)/Mtot)**2\n",
    "    return rhoCrit.decompose(u.cgs.bases)\n",
    "\n",
    "# function to calculate rho_crit (Hubber et al. 2006)\n",
    "def calcRhoCritHubber (T, mu, Ntot, Mtot):\n",
    "    ss2 = (const.k_B*T/mu/const.m_p) # sound speed ^ 2\n",
    "    Nnei = 50\n",
    "    rhoCritHubber = (math.pi*ss2/const.G)**3 * (math.pi/(6*Nnei*(Mtot/Ntot)))**2\n",
    "    return rhoCritHubber.decompose(u.cgs.bases)\n"
   ]
  },
  {
   "cell_type": "code",
   "execution_count": 24,
   "metadata": {},
   "outputs": [
    {
     "data": {
      "text/latex": [
       "$9.714719 \\times 10^{-16} \\; \\mathrm{\\frac{g}{cm^{3}}}$"
      ],
      "text/plain": [
       "<Quantity 9.71471896e-16 g / cm3>"
      ]
     },
     "execution_count": 24,
     "metadata": {},
     "output_type": "execute_result"
    }
   ],
   "source": [
    "calcRhoCrit (T = 15*u.Kelvin, mu = 2.381, Ntot = 300000, Mtot = 65*const.M_sun)"
   ]
  },
  {
   "cell_type": "code",
   "execution_count": 28,
   "metadata": {},
   "outputs": [
    {
     "data": {
      "text/latex": [
       "$7.1812073 \\times 10^{-20} \\; \\mathrm{\\frac{g}{cm^{3}}}$"
      ],
      "text/plain": [
       "<Quantity 7.18120729e-20 g / cm3>"
      ]
     },
     "execution_count": 28,
     "metadata": {},
     "output_type": "execute_result"
    }
   ],
   "source": [
    "filamentM = 50*u.solMass #filament mass\n",
    "\n",
    "filamentDens = filamentM/filamentV\n",
    "filamentDens.decompose(u.cgs.bases)\n",
    "\n"
   ]
  },
  {
   "cell_type": "code",
   "execution_count": 29,
   "metadata": {},
   "outputs": [
    {
     "data": {
      "text/latex": [
       "$1.5188798 \\times 10^{8} \\; \\mathrm{\\frac{pc^{3/2}\\,cm\\,kg^{1/2}}{M_{\\odot}^{1/2}\\,m^{3/2}}}$"
      ],
      "text/plain": [
       "<Quantity 1.51887979e+08 cm kg(1/2) pc(3/2) / (m(3/2) solMass(1/2))>"
      ]
     },
     "execution_count": 29,
     "metadata": {},
     "output_type": "execute_result"
    }
   ],
   "source": [
    "\n",
    "\n",
    "JeansL = (math.pi*soundSpeed**2/const.G/filamentDens)**(1/2.); JeansL\n",
    "\n"
   ]
  },
  {
   "cell_type": "code",
   "execution_count": 30,
   "metadata": {},
   "outputs": [
    {
     "data": {
      "text/latex": [
       "$5.8383363 \\times 10^{17} \\; \\mathrm{cm}$"
      ],
      "text/plain": [
       "<Quantity 5.83833632e+17 cm>"
      ]
     },
     "execution_count": 30,
     "metadata": {},
     "output_type": "execute_result"
    }
   ],
   "source": [
    "\n",
    "\n",
    "JeansL.decompose(u.cgs.bases)\n",
    "\n"
   ]
  },
  {
   "cell_type": "code",
   "execution_count": 31,
   "metadata": {},
   "outputs": [
    {
     "data": {
      "text/latex": [
       "$0.18920759 \\; \\mathrm{pc}$"
      ],
      "text/plain": [
       "<Quantity 0.18920759 pc>"
      ]
     },
     "execution_count": 31,
     "metadata": {},
     "output_type": "execute_result"
    }
   ],
   "source": [
    "JeansL.decompose(u.cgs.bases).to(u.parsec)"
   ]
  }
 ],
 "metadata": {
  "kernelspec": {
   "display_name": "PhantomAnalysis",
   "language": "python",
   "name": "phantomanalysis"
  },
  "language_info": {
   "codemirror_mode": {
    "name": "ipython",
    "version": 3
   },
   "file_extension": ".py",
   "mimetype": "text/x-python",
   "name": "python",
   "nbconvert_exporter": "python",
   "pygments_lexer": "ipython3",
   "version": "3.6.8"
  }
 },
 "nbformat": 4,
 "nbformat_minor": 2
}
