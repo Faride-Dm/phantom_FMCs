{
 "cells": [
  {
   "cell_type": "markdown",
   "metadata": {},
   "source": [
    "## This is a script to plot mass in solar mass unit against time in Kyr "
   ]
  },
  {
   "cell_type": "code",
   "execution_count": 1,
   "metadata": {},
   "outputs": [],
   "source": [
    "import numpy as np\n",
    "import math\n",
    "from astropy import constants as const\n",
    "from astropy import units as u"
   ]
  },
  {
   "cell_type": "code",
   "execution_count": 2,
   "metadata": {},
   "outputs": [],
   "source": [
    "from matplotlib import pyplot as plt"
   ]
  },
  {
   "cell_type": "code",
   "execution_count": 3,
   "metadata": {},
   "outputs": [
    {
     "name": "stdout",
     "output_type": "stream",
     "text": [
      "   5.6114212500000218E-002  -6.0467999344823449E-006   1.8820260203318079E-005 -0.37393225482508169        3.3845184244877660E-002\n",
      "   5.6141100000000221E-002   6.0510112264054821E-007   5.4904981293368985E-006 -0.37375298341017216        5.2332871592513153E-002\n",
      "   5.6194875000000220E-002  -4.6230200077710345E-006   8.0545319050247051E-007 -0.37340012093418301       0.10358974021770362     \n",
      "   5.6248650000000219E-002  -7.8676529533629680E-006   2.4978125725414471E-006 -0.37306088774562834       0.16316117722675069     \n",
      "   5.6302425000000218E-002  -1.0127307563935010E-005   2.2641366963228971E-007 -0.37272727238471931       0.22009151604327823     \n",
      "   5.6409975000000223E-002  -1.4066435431995194E-005  -8.7164230886851645E-007 -0.37205640594270606       0.32593108064719961     \n",
      "   5.6517525000000228E-002  -1.6280892768443824E-005  -3.5227736622688016E-006 -0.37138318588850738       0.42306480306096433     \n",
      "   5.6625075000000226E-002  -1.8879876203189383E-005  -3.4907677808338431E-006 -0.37070752771380605       0.51335123386449300     \n",
      "   5.6732625000000224E-002  -2.0318812631723009E-005  -4.3147459884167113E-006 -0.37002914894828609       0.59992056350817702     \n",
      "   5.6947725000000234E-002  -2.1876100239550156E-005  -4.0153507899950272E-006 -0.36866794566249633       0.76229919312231464     \n"
     ]
    }
   ],
   "source": [
    "!head sink_00001.dat"
   ]
  },
  {
   "cell_type": "code",
   "execution_count": 4,
   "metadata": {},
   "outputs": [],
   "source": [
    "input_file=open('sink_00001.dat','r')"
   ]
  },
  {
   "cell_type": "code",
   "execution_count": 5,
   "metadata": {},
   "outputs": [],
   "source": [
    "time, mass = np.loadtxt(input_file,unpack=True, usecols=(0,4))"
   ]
  },
  {
   "cell_type": "code",
   "execution_count": 6,
   "metadata": {},
   "outputs": [],
   "source": [
    "input_file=open('sink_00002.dat','r')"
   ]
  },
  {
   "cell_type": "code",
   "execution_count": 7,
   "metadata": {},
   "outputs": [],
   "source": [
    "time2, mass2 = np.loadtxt(input_file,unpack=True, usecols=(0,4))"
   ]
  },
  {
   "cell_type": "markdown",
   "metadata": {},
   "source": [
    "#### we need to convert the time code unit into kyr"
   ]
  },
  {
   "cell_type": "code",
   "execution_count": 8,
   "metadata": {},
   "outputs": [
    {
     "data": {
      "text/latex": [
       "$\\mathrm{s}$"
      ],
      "text/plain": [
       "Unit(\"s\")"
      ]
     },
     "execution_count": 8,
     "metadata": {},
     "output_type": "execute_result"
    }
   ],
   "source": [
    "timeUnitSi = (u.m**3/const.G.unit/u.kg)**(0.5); timeUnitSi"
   ]
  },
  {
   "cell_type": "code",
   "execution_count": 9,
   "metadata": {},
   "outputs": [
    {
     "data": {
      "text/latex": [
       "$4.7051124 \\times 10^{14} \\; \\mathrm{s}$"
      ],
      "text/plain": [
       "<Quantity 4.70511238e+14 s>"
      ]
     },
     "execution_count": 9,
     "metadata": {},
     "output_type": "execute_result"
    }
   ],
   "source": [
    "timeUnit = (const.pc**3/(const.G)/const.M_sun)**(0.5); timeUnit"
   ]
  },
  {
   "cell_type": "code",
   "execution_count": 10,
   "metadata": {},
   "outputs": [],
   "source": [
    "#massunitSi = (u.m**3/((u.s**2)*(const.G.unit))); massunitSi"
   ]
  },
  {
   "cell_type": "code",
   "execution_count": 11,
   "metadata": {},
   "outputs": [],
   "source": [
    "# massunit = (const.pc**3/((timeUnit**2)*(const.G))); massunit"
   ]
  },
  {
   "cell_type": "code",
   "execution_count": 13,
   "metadata": {},
   "outputs": [],
   "source": [
    "# massunit = massunit.decompose(u.cgs.bases); massunit"
   ]
  },
  {
   "cell_type": "code",
   "execution_count": 14,
   "metadata": {},
   "outputs": [
    {
     "data": {
      "text/plain": [
       "(111,)"
      ]
     },
     "execution_count": 14,
     "metadata": {},
     "output_type": "execute_result"
    }
   ],
   "source": [
    "mass.shape"
   ]
  },
  {
   "cell_type": "code",
   "execution_count": 15,
   "metadata": {},
   "outputs": [
    {
     "data": {
      "text/plain": [
       "(110,)"
      ]
     },
     "execution_count": 15,
     "metadata": {},
     "output_type": "execute_result"
    }
   ],
   "source": [
    "mass2.shape"
   ]
  },
  {
   "cell_type": "code",
   "execution_count": 16,
   "metadata": {},
   "outputs": [
    {
     "data": {
      "text/plain": [
       "array([ 0.03384518,  0.05233287,  0.10358974,  0.16316118,  0.22009152,\n",
       "        0.32593108,  0.4230648 ,  0.51335123,  0.59992056,  0.76229919,\n",
       "        0.91245052,  1.05565673,  1.19221129,  1.32299456,  1.44966945,\n",
       "        1.57301852,  1.69245485,  1.80758717,  1.92027402,  2.03080887,\n",
       "        2.14153936,  2.25031348,  2.35810941,  2.46424243,  2.57037545,\n",
       "        2.67601938,  2.7805873 ,  2.88593778,  2.93885756,  3.04391458,\n",
       "        3.09624745,  3.20247829,  3.30782876,  3.41366832,  3.51970352,\n",
       "        3.62573873,  3.73236084,  3.78635662,  3.89288092,  4.00116594,\n",
       "        4.10925533,  4.21665999,  4.27143832,  4.37982117,  4.48849747,\n",
       "        4.5432758 ,  4.65312592,  4.76248695,  4.81716747,  4.92740886,\n",
       "        5.03765026,  5.14896765,  5.26018723,  5.37042863,  5.48301767,\n",
       "        5.59433506,  5.70672846,  5.81912187,  5.93190654,  6.04518031,\n",
       "        6.1580628 ,  6.21450405,  6.32768   ,  6.44075813,  6.55471662,\n",
       "        6.66808821,  6.78136197,  6.89463574,  7.00937678,  7.12245491,\n",
       "        7.2358265 ,  7.34988281,  7.46403695,  7.57731071,  7.69038884,\n",
       "        7.80346697,  7.91722983,  8.0294276 ,  8.05847968,  8.11521438,\n",
       "        8.17185126,  8.28404903,  8.39742061,  8.50932492,  8.62152268,\n",
       "        8.7329379 ,  8.8453313 ,  8.95635524,  9.06855301,  9.17840313,\n",
       "        9.28962271,  9.39937501,  9.42715545,  9.48222724,  9.59217518,\n",
       "        9.70143839,  9.81050596,  9.91967136,  9.97337369, 10.08116962,\n",
       "       10.18876992, 10.24188534, 10.34987691, 10.40220978, 10.50873407,\n",
       "       10.61467145, 10.7193372 , 10.82478549, 10.92886432, 11.03353006,\n",
       "       11.13663071])"
      ]
     },
     "execution_count": 16,
     "metadata": {},
     "output_type": "execute_result"
    }
   ],
   "source": [
    "mass"
   ]
  },
  {
   "cell_type": "code",
   "execution_count": 17,
   "metadata": {},
   "outputs": [
    {
     "data": {
      "text/plain": [
       "array([ 0.04118157,  0.08676497,  0.14584731,  0.20375583,  0.31086704,\n",
       "        0.4092724 ,  0.50161302,  0.58730198,  0.75046316,  0.9022774 ,\n",
       "        1.04577707,  1.18360326,  1.31565817,  1.44321343,  1.56626905,\n",
       "        1.68590101,  1.80210933,  1.91567656,  2.02709177,  2.13713753,\n",
       "        2.24581383,  2.3538054 ,  2.46062315,  2.56665835,  2.67259573,\n",
       "        2.77755493,  2.8833945 ,  2.93621646,  3.04098002,  3.09321508,\n",
       "        3.19944591,  3.30450293,  3.41044031,  3.51647552,  3.62329326,\n",
       "        3.73050229,  3.7841068 ,  3.891218  ,  3.99803575,  4.1064186 ,\n",
       "        4.21431235,  4.26821032,  4.37688662,  4.48478037,  4.54092816,\n",
       "        4.64989791,  4.75974804,  4.81452637,  4.92466994,  5.03569389,\n",
       "        5.14622874,  5.25793741,  5.36876571,  5.4810613 ,  5.59237869,\n",
       "        5.70486991,  5.81765459,  5.93004799,  6.04283266,  6.15591079,\n",
       "        6.21244986,  6.3250389 ,  6.43919303,  6.55256462,  6.6659362 ,\n",
       "        6.78057943,  6.89307065,  7.00702914,  7.12128109,  7.23484832,\n",
       "        7.34733953,  7.46227622,  7.57554998,  7.6891172 ,  7.80239097,\n",
       "        7.91586038,  8.02864505,  8.05691458,  8.1137471 ,  8.17018835,\n",
       "        8.28277739,  8.39526861,  8.50756419,  8.62005541,  8.7318619 ,\n",
       "        8.8431793 ,  8.95498579,  9.06679228,  9.17722931,  9.2879598 ,\n",
       "        9.39810337,  9.42607945,  9.48085778,  9.59090354,  9.6998733 ,\n",
       "        9.80845178,  9.91703026,  9.97171077, 10.07980016, 10.18652009,\n",
       "       10.24041806, 10.34821399, 10.40005777, 10.50638643, 10.61251945,\n",
       "       10.71747865, 10.8227313 , 10.9266145 , 11.03137806, 11.13418525])"
      ]
     },
     "execution_count": 17,
     "metadata": {},
     "output_type": "execute_result"
    }
   ],
   "source": [
    "mass2"
   ]
  },
  {
   "cell_type": "code",
   "execution_count": 18,
   "metadata": {},
   "outputs": [
    {
     "data": {
      "text/plain": [
       "(111,)"
      ]
     },
     "execution_count": 18,
     "metadata": {},
     "output_type": "execute_result"
    }
   ],
   "source": [
    "time.shape"
   ]
  },
  {
   "cell_type": "code",
   "execution_count": 19,
   "metadata": {},
   "outputs": [
    {
     "data": {
      "text/plain": [
       "(110,)"
      ]
     },
     "execution_count": 19,
     "metadata": {},
     "output_type": "execute_result"
    }
   ],
   "source": [
    "time2.shape "
   ]
  },
  {
   "cell_type": "code",
   "execution_count": 20,
   "metadata": {},
   "outputs": [
    {
     "data": {
      "text/plain": [
       "array([1.77815209e-12, 1.77900411e-12, 1.78070813e-12, 1.78241216e-12,\n",
       "       1.78411619e-12, 1.78752424e-12, 1.79093230e-12, 1.79434035e-12,\n",
       "       1.79774840e-12, 1.80456451e-12, 1.81138062e-12, 1.81819673e-12,\n",
       "       1.82501283e-12, 1.83182894e-12, 1.83864505e-12, 1.84546116e-12,\n",
       "       1.85227726e-12, 1.85909337e-12, 1.86590948e-12, 1.87272559e-12,\n",
       "       1.87954170e-12, 1.88635780e-12, 1.89317391e-12, 1.89999002e-12,\n",
       "       1.90680613e-12, 1.91362223e-12, 1.92043834e-12, 1.92725445e-12,\n",
       "       1.93066250e-12, 1.93747861e-12, 1.94088666e-12, 1.94770277e-12,\n",
       "       1.95451888e-12, 1.96133499e-12, 1.96815110e-12, 1.97496720e-12,\n",
       "       1.98178331e-12, 1.98519136e-12, 1.99200747e-12, 1.99882358e-12,\n",
       "       2.00563969e-12, 2.01245580e-12, 2.01586385e-12, 2.02267996e-12,\n",
       "       2.02949606e-12, 2.03290412e-12, 2.03972023e-12, 2.04653633e-12,\n",
       "       2.04994439e-12, 2.05676050e-12, 2.06357660e-12, 2.07039271e-12,\n",
       "       2.07720882e-12, 2.08402493e-12, 2.09084103e-12, 2.09765714e-12,\n",
       "       2.10447325e-12, 2.11128936e-12, 2.11810546e-12, 2.12492157e-12,\n",
       "       2.13173768e-12, 2.13514573e-12, 2.14196184e-12, 2.14877795e-12,\n",
       "       2.15559406e-12, 2.16241016e-12, 2.16922627e-12, 2.17604238e-12,\n",
       "       2.18285849e-12, 2.18967460e-12, 2.19649070e-12, 2.20330681e-12,\n",
       "       2.21012292e-12, 2.21693903e-12, 2.22375513e-12, 2.23057124e-12,\n",
       "       2.23738735e-12, 2.24420346e-12, 2.24590748e-12, 2.24931554e-12,\n",
       "       2.25272359e-12, 2.25953970e-12, 2.26635581e-12, 2.27317191e-12,\n",
       "       2.27998802e-12, 2.28680413e-12, 2.29362024e-12, 2.30043634e-12,\n",
       "       2.30725245e-12, 2.31406856e-12, 2.32088467e-12, 2.32770078e-12,\n",
       "       2.32940480e-12, 2.33281286e-12, 2.33962896e-12, 2.34644507e-12,\n",
       "       2.35326118e-12, 2.36007729e-12, 2.36348534e-12, 2.37030145e-12,\n",
       "       2.37711756e-12, 2.38052561e-12, 2.38734172e-12, 2.39074977e-12,\n",
       "       2.39756588e-12, 2.40438199e-12, 2.41119809e-12, 2.41801420e-12,\n",
       "       2.42483031e-12, 2.43164642e-12, 2.43846253e-12])"
      ]
     },
     "execution_count": 20,
     "metadata": {},
     "output_type": "execute_result"
    }
   ],
   "source": [
    "time=time/(31.5576*10**9);time"
   ]
  },
  {
   "cell_type": "code",
   "execution_count": 21,
   "metadata": {},
   "outputs": [
    {
     "data": {
      "text/plain": [
       "array([1.77900411e-12, 1.78070813e-12, 1.78241216e-12, 1.78411619e-12,\n",
       "       1.78752424e-12, 1.79093230e-12, 1.79434035e-12, 1.79774840e-12,\n",
       "       1.80456451e-12, 1.81138062e-12, 1.81819673e-12, 1.82501283e-12,\n",
       "       1.83182894e-12, 1.83864505e-12, 1.84546116e-12, 1.85227726e-12,\n",
       "       1.85909337e-12, 1.86590948e-12, 1.87272559e-12, 1.87954170e-12,\n",
       "       1.88635780e-12, 1.89317391e-12, 1.89999002e-12, 1.90680613e-12,\n",
       "       1.91362223e-12, 1.92043834e-12, 1.92725445e-12, 1.93066250e-12,\n",
       "       1.93747861e-12, 1.94088666e-12, 1.94770277e-12, 1.95451888e-12,\n",
       "       1.96133499e-12, 1.96815110e-12, 1.97496720e-12, 1.98178331e-12,\n",
       "       1.98519136e-12, 1.99200747e-12, 1.99882358e-12, 2.00563969e-12,\n",
       "       2.01245580e-12, 2.01586385e-12, 2.02267996e-12, 2.02949606e-12,\n",
       "       2.03290412e-12, 2.03972023e-12, 2.04653633e-12, 2.04994439e-12,\n",
       "       2.05676050e-12, 2.06357660e-12, 2.07039271e-12, 2.07720882e-12,\n",
       "       2.08402493e-12, 2.09084103e-12, 2.09765714e-12, 2.10447325e-12,\n",
       "       2.11128936e-12, 2.11810546e-12, 2.12492157e-12, 2.13173768e-12,\n",
       "       2.13514573e-12, 2.14196184e-12, 2.14877795e-12, 2.15559406e-12,\n",
       "       2.16241016e-12, 2.16922627e-12, 2.17604238e-12, 2.18285849e-12,\n",
       "       2.18967460e-12, 2.19649070e-12, 2.20330681e-12, 2.21012292e-12,\n",
       "       2.21693903e-12, 2.22375513e-12, 2.23057124e-12, 2.23738735e-12,\n",
       "       2.24420346e-12, 2.24590748e-12, 2.24931554e-12, 2.25272359e-12,\n",
       "       2.25953970e-12, 2.26635581e-12, 2.27317191e-12, 2.27998802e-12,\n",
       "       2.28680413e-12, 2.29362024e-12, 2.30043634e-12, 2.30725245e-12,\n",
       "       2.31406856e-12, 2.32088467e-12, 2.32770078e-12, 2.32940480e-12,\n",
       "       2.33281286e-12, 2.33962896e-12, 2.34644507e-12, 2.35326118e-12,\n",
       "       2.36007729e-12, 2.36348534e-12, 2.37030145e-12, 2.37711756e-12,\n",
       "       2.38052561e-12, 2.38734172e-12, 2.39074977e-12, 2.39756588e-12,\n",
       "       2.40438199e-12, 2.41119809e-12, 2.41801420e-12, 2.42483031e-12,\n",
       "       2.43164642e-12, 2.43846253e-12])"
      ]
     },
     "execution_count": 21,
     "metadata": {},
     "output_type": "execute_result"
    }
   ],
   "source": [
    "time2=time2/(31.5576*10**9);time2"
   ]
  },
  {
   "cell_type": "code",
   "execution_count": 22,
   "metadata": {},
   "outputs": [
    {
     "data": {
      "text/plain": [
       "Text(0.5,0,'time(kyr)')"
      ]
     },
     "execution_count": 22,
     "metadata": {},
     "output_type": "execute_result"
    },
    {
     "data": {
      "image/png": "[encoded data removed]",
      "text/plain": [
       "<Figure size 432x288 with 1 Axes>"
      ]
     },
     "metadata": {
      "needs_background": "light"
     },
     "output_type": "display_data"
    }
   ],
   "source": [
    "plt.plot(time, mass,'b-' )\n",
    "#plt.plot(time2, mass2, 'r-')\n",
    "plt.ylabel('core mass')\n",
    "plt.xlabel('time(kyr)')"
   ]
  },
  {
   "cell_type": "code",
   "execution_count": 37,
   "metadata": {},
   "outputs": [
    {
     "data": {
      "text/plain": [
       "[<matplotlib.lines.Line2D at 0x2b2d86610d90>]"
      ]
     },
     "execution_count": 37,
     "metadata": {},
     "output_type": "execute_result"
    },
    {
     "data": {
      "image/png": "[encoded data removed]",
      "text/plain": [
       "<Figure size 432x288 with 1 Axes>"
      ]
     },
     "metadata": {
      "needs_background": "light"
     },
     "output_type": "display_data"
    }
   ],
   "source": [
    "plt.plot(time2, mass2, 'rx')"
   ]
  },
  {
   "cell_type": "markdown",
   "metadata": {},
   "source": [
    "#### It should be checked with splash in physical units to make sure of a match"
   ]
  },
  {
   "cell_type": "markdown",
   "metadata": {},
   "source": [
    "#### Now we save the data in an output file "
   ]
  },
  {
   "cell_type": "code",
   "execution_count": 24,
   "metadata": {},
   "outputs": [],
   "source": [
    "target_file=open('./new_sink_00001','a')"
   ]
  },
  {
   "cell_type": "code",
   "execution_count": 25,
   "metadata": {},
   "outputs": [],
   "source": [
    "np.savetxt(target_file, np.transpose(time), fmt=\"%25.20f\", delimiter=' ')"
   ]
  },
  {
   "cell_type": "code",
   "execution_count": 26,
   "metadata": {},
   "outputs": [],
   "source": [
    "np.savetxt(target_file, np.transpose(mass), fmt=\"%25.20f\", delimiter=' ')"
   ]
  },
  {
   "cell_type": "code",
   "execution_count": 27,
   "metadata": {},
   "outputs": [],
   "source": [
    "target_file=open('./new_sink_00002','a')"
   ]
  },
  {
   "cell_type": "code",
   "execution_count": 28,
   "metadata": {},
   "outputs": [],
   "source": [
    "np.savetxt(target_file, np.transpose(time2), fmt=\"%25.20f\", delimiter=' ')"
   ]
  },
  {
   "cell_type": "code",
   "execution_count": 36,
   "metadata": {},
   "outputs": [],
   "source": [
    "# input_file=open('sink_00001.dat','r')\n",
    "# np.savetxt('new_sink_00001.dat', input_file, fmt='%25.20f')\n",
    "# b = np.loadtxt('new_sink_00001.dat', dtype=int)\n",
    "# a == b\n",
    "# array([ True,  True], dtype=bool)"
   ]
  },
  {
   "cell_type": "code",
   "execution_count": 29,
   "metadata": {},
   "outputs": [],
   "source": [
    "np.savetxt(target_file, np.transpose(mass2), fmt=\"%25.20f\", delimiter=' ')"
   ]
  },
  {
   "cell_type": "code",
   "execution_count": 29,
   "metadata": {},
   "outputs": [
    {
     "name": "stdout",
     "output_type": "stream",
     "text": [
      "   5.6141100000000221E-002  -7.6914468457172958E-005   7.3519431707976801E-006  0.37370749838520839        4.1181568112986983E-002\n",
      "   5.6194875000000220E-002  -6.8678560885715079E-005   3.2172184458715501E-006  0.37335408770997602        8.6764966546839573E-002\n",
      "   5.6248650000000219E-002  -6.9168312814906315E-005   5.8380082807373831E-006  0.37301588119628137       0.14584731129801301     \n",
      "   5.6302425000000218E-002  -6.7389187429294946E-005   6.7093024243259219E-006  0.37268329019013269       0.20375583463028829     \n",
      "   5.6409975000000223E-002  -6.5933385948209840E-005   5.7836738134505360E-006  0.37201602105739900       0.31086703910468261     \n",
      "   5.6517525000000228E-002  -6.5023135608250395E-005   6.5647231174609544E-006  0.37134505406702456       0.40927240138892007     \n",
      "   5.6625075000000226E-002  -6.4049912736410781E-005   7.7720338470048441E-006  0.37067102042336847       0.50161301967551997     \n",
      "   5.6732625000000224E-002  -6.3258445886222865E-005   7.9948973843776532E-006  0.36999357342037092       0.58730198325503091     \n",
      "   5.6947725000000234E-002  -6.1665168116451343E-005   8.0951378557832560E-006  0.36863591824819730       0.75046316048176953     \n",
      "   5.7162825000000229E-002  -5.9741377222508576E-005   7.5491272641783784E-006  0.36727548873255772       0.90227739732583190     \n"
     ]
    }
   ],
   "source": [
    "!head sink_00002.dat"
   ]
  },
  {
   "cell_type": "code",
   "execution_count": null,
   "metadata": {},
   "outputs": [],
   "source": []
  }
 ],
 "metadata": {
  "kernelspec": {
   "display_name": "PhantomAnalysis",
   "language": "python",
   "name": "phantomanalysis"
  },
  "language_info": {
   "codemirror_mode": {
    "name": "ipython",
    "version": 3
   },
   "file_extension": ".py",
   "mimetype": "text/x-python",
   "name": "python",
   "nbconvert_exporter": "python",
   "pygments_lexer": "ipython3",
   "version": "3.6.8"
  }
 },
 "nbformat": 4,
 "nbformat_minor": 2
}
